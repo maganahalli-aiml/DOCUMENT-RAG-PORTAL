{
 "cells": [
  {
   "cell_type": "code",
   "execution_count": 1,
   "id": "34117add",
   "metadata": {},
   "outputs": [],
   "source": [
    "## Import Required libs\n",
    "from langchain.document_loaders import PyPDFLoader\n",
    "from langchain_text_splitters import RecursiveCharacterTextSplitter\n",
    "import os\n",
    "from pathlib import Path"
   ]
  },
  {
   "cell_type": "code",
   "execution_count": 2,
   "id": "201ae3d7",
   "metadata": {},
   "outputs": [
    {
     "name": "stdout",
     "output_type": "stream",
     "text": [
      "Current working directory: /Users/alampata/Desktop/LLMOPS/DOCUMENT-RAG-PORTAL\n"
     ]
    }
   ],
   "source": [
    "## Display current working directory\n",
    "current_directory=os.path.dirname(os.getcwd())\n",
    "print(f\"Current working directory: {current_directory}\")    "
   ]
  },
  {
   "cell_type": "code",
   "execution_count": 3,
   "id": "7b214e6f",
   "metadata": {},
   "outputs": [
    {
     "name": "stdout",
     "output_type": "stream",
     "text": [
      "File path: /Users/alampata/Desktop/LLMOPS/DOCUMENT-RAG-PORTAL/notebook/data\n"
     ]
    }
   ],
   "source": [
    "## Define the directory containing the PDF files\n",
    "file_path=os.path.join(current_directory, \"notebook\", \"data\")\n",
    "file_path = Path(file_path) \n",
    "print(f\"File path: {file_path}\")"
   ]
  },
  {
   "cell_type": "code",
   "execution_count": 4,
   "id": "6898dc07",
   "metadata": {},
   "outputs": [
    {
     "data": {
      "text/plain": [
       "['/Users/alampata/Desktop/LLMOPS/DOCUMENT-RAG-PORTAL/notebook/data/MachineLearningEBook.pdf',\n",
       " '/Users/alampata/Desktop/LLMOPS/DOCUMENT-RAG-PORTAL/notebook/data/Deloitte LLM Article.pdf',\n",
       " '/Users/alampata/Desktop/LLMOPS/DOCUMENT-RAG-PORTAL/notebook/data/sample.pdf']"
      ]
     },
     "execution_count": 4,
     "metadata": {},
     "output_type": "execute_result"
    }
   ],
   "source": [
    "## Display Pdf file names\n",
    "pdf_files = [files for files in os.listdir(file_path) if files.endswith('.pdf')]\n",
    "pdf_path = [os.path.join(file_path, files) for files in pdf_files]\n",
    "pdf_path"
   ]
  },
  {
   "cell_type": "code",
   "execution_count": 5,
   "id": "11ba1df2",
   "metadata": {},
   "outputs": [
    {
     "name": "stdout",
     "output_type": "stream",
     "text": [
      "Number of documents loaded: 1936\n"
     ]
    }
   ],
   "source": [
    "## Read PDF files and split them into chunks\n",
    "pdf_loaders = [PyPDFLoader(pdf) for pdf in pdf_path]\n",
    "text_splitter = RecursiveCharacterTextSplitter(chunk_size=512, chunk_overlap=150)\n",
    "documents = []\n",
    "for loader in pdf_loaders:\n",
    "    docs = loader.load()\n",
    "    split_docs = text_splitter.split_documents(docs)\n",
    "    documents.extend(split_docs)    \n",
    "print(f\"Number of documents loaded: {len(documents)}\")"
   ]
  },
  {
   "cell_type": "code",
   "execution_count": 6,
   "id": "91d5d3f4",
   "metadata": {},
   "outputs": [
    {
     "data": {
      "text/plain": [
       "{'producer': 'pdfTeX-1.40.10',\n",
       " 'creator': 'LaTeX with hyperref package',\n",
       " 'creationdate': '2010-10-01T15:47:05-07:00',\n",
       " 'author': 'AlexJ.SmolaandVishyS.V.N.Vishwanathan',\n",
       " 'title': 'AnIntroductiontoMachineLearning',\n",
       " 'subject': '',\n",
       " 'keywords': '',\n",
       " 'moddate': '2010-10-01T15:47:05-07:00',\n",
       " 'trapped': '/False',\n",
       " 'ptex.fullbanner': 'This is pdfTeX, Version 3.1415926-1.40.10-2.2 (TeX Live/MacPorts 2009_6) kpathsea version 5.0.0',\n",
       " 'source': '/Users/alampata/Desktop/LLMOPS/DOCUMENT-RAG-PORTAL/notebook/data/MachineLearningEBook.pdf',\n",
       " 'total_pages': 234,\n",
       " 'page': 142,\n",
       " 'page_label': '135'}"
      ]
     },
     "execution_count": 6,
     "metadata": {},
     "output_type": "execute_result"
    }
   ],
   "source": [
    "documents[720].page_content\n",
    "documents[720].metadata"
   ]
  }
 ],
 "metadata": {
  "kernelspec": {
   "display_name": "Python 3",
   "language": "python",
   "name": "python3"
  },
  "language_info": {
   "codemirror_mode": {
    "name": "ipython",
    "version": 3
   },
   "file_extension": ".py",
   "mimetype": "text/x-python",
   "name": "python",
   "nbconvert_exporter": "python",
   "pygments_lexer": "ipython3",
   "version": "3.10.18"
  }
 },
 "nbformat": 4,
 "nbformat_minor": 5
}
