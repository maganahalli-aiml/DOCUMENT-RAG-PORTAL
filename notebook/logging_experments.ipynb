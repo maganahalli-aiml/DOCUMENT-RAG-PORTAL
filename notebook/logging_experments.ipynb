{
 "cells": [
  {
   "cell_type": "code",
   "execution_count": 1,
   "id": "1475a8aa",
   "metadata": {},
   "outputs": [
    {
     "name": "stdout",
     "output_type": "stream",
     "text": [
      "All OK\n"
     ]
    }
   ],
   "source": [
    "print(\"All OK\")"
   ]
  },
  {
   "cell_type": "code",
   "execution_count": 2,
   "id": "e16f7d77",
   "metadata": {},
   "outputs": [],
   "source": [
    "import logging\n",
    "import os\n",
    "from datetime import datetime\n"
   ]
  },
  {
   "cell_type": "code",
   "execution_count": 3,
   "id": "541ff4e8",
   "metadata": {},
   "outputs": [
    {
     "name": "stdout",
     "output_type": "stream",
     "text": [
      "Logs directory created at: /Users/alampata/Desktop/LLMOPS/DOCUMENT-RAG-PORTAL/notebook/logs\n"
     ]
    }
   ],
   "source": [
    "logs_dir = os.path.join(os.getcwd(), \"logs\")\n",
    "if not os.path.exists(logs_dir):\n",
    "    os.makedirs(logs_dir)\n",
    "\n",
    "print(f\"Logs directory created at: {logs_dir}\")"
   ]
  },
  {
   "cell_type": "code",
   "execution_count": 4,
   "id": "ad28ad89",
   "metadata": {},
   "outputs": [
    {
     "name": "stdout",
     "output_type": "stream",
     "text": [
      "Log file will be created at: /Users/alampata/Desktop/LLMOPS/DOCUMENT-RAG-PORTAL/notebook/logs/07_26_2025_10_10_17.log\n"
     ]
    }
   ],
   "source": [
    "log_filename = f\"{datetime.now().strftime('%m_%d_%Y_%H_%M_%S')}.log\"\n",
    "log_file_path = os.path.join(logs_dir, log_filename)\n",
    "\n",
    "print(f\"Log file will be created at: {log_file_path}\")\n"
   ]
  },
  {
   "cell_type": "code",
   "execution_count": 5,
   "id": "e331902d",
   "metadata": {},
   "outputs": [],
   "source": [
    "logging.basicConfig(\n",
    "    filename=log_file_path,\n",
    "    format=\"[ %(asctime)s ] %(levelname)s %(name)s (line:%(lineno)d) - %(message)s\",\n",
    "    level=logging.INFO,\n",
    ")"
   ]
  },
  {
   "cell_type": "code",
   "execution_count": 6,
   "id": "dd2c10c4",
   "metadata": {},
   "outputs": [],
   "source": [
    "logger = logging.getLogger(\"document_portal_logger\")\n",
    "  "
   ]
  },
  {
   "cell_type": "code",
   "execution_count": 7,
   "id": "2ab790dc",
   "metadata": {},
   "outputs": [],
   "source": [
    "logger.info(\"Logging setup complete. Log file created at: %s\", log_file_path) "
   ]
  },
  {
   "cell_type": "code",
   "execution_count": 8,
   "id": "416c93b1",
   "metadata": {},
   "outputs": [
    {
     "name": "stdout",
     "output_type": "stream",
     "text": [
      "Requirement already satisfied: structlog in /usr/local/lib/python3.10/site-packages (25.4.0)\n",
      "Requirement already satisfied: typing-extensions in /Users/alampata/Library/Python/3.10/lib/python/site-packages (from structlog) (4.13.2)\n",
      "Note: you may need to restart the kernel to use updated packages.\n"
     ]
    }
   ],
   "source": [
    "%pip install structlog\n",
    "import structlog\n",
    "structlog.configure(\n",
    "    processors=[\n",
    "        structlog.processors.TimeStamper(fmt=\"iso\"),\n",
    "        structlog.processors.StackInfoRenderer(),\n",
    "        structlog.processors.format_exc_info,\n",
    "        structlog.processors.JSONRenderer(),\n",
    "    ],\n",
    "    context_class=dict,\n",
    "    logger_factory=structlog.stdlib.LoggerFactory(),\n",
    "    wrapper_class=structlog.stdlib.BoundLogger,\n",
    ")\n",
    "\n",
    "logger = structlog.get_logger(\"document_portal_logger_structlog\")\n",
    "logger.info(\"Structlog setup complete. Log file created at: %s\", log_file_path)\n"
   ]
  }
 ],
 "metadata": {
  "kernelspec": {
   "display_name": "Python 3",
   "language": "python",
   "name": "python3"
  },
  "language_info": {
   "codemirror_mode": {
    "name": "ipython",
    "version": 3
   },
   "file_extension": ".py",
   "mimetype": "text/x-python",
   "name": "python",
   "nbconvert_exporter": "python",
   "pygments_lexer": "ipython3",
   "version": "3.10.18"
  }
 },
 "nbformat": 4,
 "nbformat_minor": 5
}
